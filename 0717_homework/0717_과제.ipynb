{
 "cells": [
  {
   "cell_type": "markdown",
   "metadata": {},
   "source": [
    "# 0717 과제"
   ]
  },
  {
   "cell_type": "markdown",
   "metadata": {},
   "source": [
    "### - 공공데이터 DB 저장"
   ]
  },
  {
   "cell_type": "markdown",
   "metadata": {},
   "source": [
    "---"
   ]
  },
  {
   "cell_type": "code",
   "execution_count": 10,
   "metadata": {},
   "outputs": [],
   "source": [
    "import requests\n",
    "\n",
    "resp = requests.get(\"http://openapi.airkorea.or.kr/openapi/services/rest/ArpltnInforInqireSvc/getMsrstnAcctoRltmMesureDnsty?serviceKey=Nl0FFvhW%2BGP2f7OFZT0z%2FOPn1c0Q%2FPeuln%2Fn8Z4FBbix6OxUWDa9nfTcQaZDnsTAlSBT08UektJEsEJTaN3Q0w%3D%3D&numOfRows=10&pageSize=10&pageNo=1&startPage=1&stationName=%EC%A2%85%EB%A1%9C%EA%B5%AC&dataTerm=DAILY&ver=1.3\")"
   ]
  },
  {
   "cell_type": "code",
   "execution_count": 3,
   "metadata": {},
   "outputs": [],
   "source": [
    "from bs4 import BeautifulSoup\n",
    "\n",
    "dom = BeautifulSoup(resp.text, \"lxml\")"
   ]
  },
  {
   "cell_type": "code",
   "execution_count": 5,
   "metadata": {},
   "outputs": [],
   "source": [
    "parsed = dom.find_all(\"item\")"
   ]
  },
  {
   "cell_type": "code",
   "execution_count": 17,
   "metadata": {},
   "outputs": [
    {
     "data": {
      "text/plain": [
       "[<item>\n",
       " <datatime>2018-07-18 01:00</datatime>\n",
       " <mangname>도시대기</mangname>\n",
       " <so2value>0.003</so2value>\n",
       " <covalue>0.2</covalue>\n",
       " <o3value>0.002</o3value>\n",
       " <no2value>0.019</no2value>\n",
       " <pm10value>33</pm10value>\n",
       " <pm10value24>30</pm10value24>\n",
       " <pm25value>26</pm25value>\n",
       " <pm25value24>27</pm25value24>\n",
       " <khaivalue>79</khaivalue>\n",
       " <khaigrade>2</khaigrade>\n",
       " <so2grade>1</so2grade>\n",
       " <cograde>1</cograde>\n",
       " <o3grade>1</o3grade>\n",
       " <no2grade>1</no2grade>\n",
       " <pm10grade>1</pm10grade>\n",
       " <pm25grade>2</pm25grade>\n",
       " <pm10grade1h>2</pm10grade1h>\n",
       " <pm25grade1h>2</pm25grade1h>\n",
       " </item>, <item>\n",
       " <datatime>2018-07-17 24:00</datatime>\n",
       " <mangname>도시대기</mangname>\n",
       " <so2value>0.004</so2value>\n",
       " <covalue>0.2</covalue>\n",
       " <o3value>0.002</o3value>\n",
       " <no2value>0.023</no2value>\n",
       " <pm10value>27</pm10value>\n",
       " <pm10value24>30</pm10value24>\n",
       " <pm25value>25</pm25value>\n",
       " <pm25value24>27</pm25value24>\n",
       " <khaivalue>79</khaivalue>\n",
       " <khaigrade>2</khaigrade>\n",
       " <so2grade>1</so2grade>\n",
       " <cograde>1</cograde>\n",
       " <o3grade>1</o3grade>\n",
       " <no2grade>1</no2grade>\n",
       " <pm10grade>1</pm10grade>\n",
       " <pm25grade>2</pm25grade>\n",
       " <pm10grade1h>1</pm10grade1h>\n",
       " <pm25grade1h>2</pm25grade1h>\n",
       " </item>, <item>\n",
       " <datatime>2018-07-17 23:00</datatime>\n",
       " <mangname>도시대기</mangname>\n",
       " <so2value>0.005</so2value>\n",
       " <covalue>0.3</covalue>\n",
       " <o3value>0.002</o3value>\n",
       " <no2value>0.024</no2value>\n",
       " <pm10value>28</pm10value>\n",
       " <pm10value24>31</pm10value24>\n",
       " <pm25value>28</pm25value>\n",
       " <pm25value24>28</pm25value24>\n",
       " <khaivalue>82</khaivalue>\n",
       " <khaigrade>2</khaigrade>\n",
       " <so2grade>1</so2grade>\n",
       " <cograde>1</cograde>\n",
       " <o3grade>1</o3grade>\n",
       " <no2grade>1</no2grade>\n",
       " <pm10grade>2</pm10grade>\n",
       " <pm25grade>2</pm25grade>\n",
       " <pm10grade1h>1</pm10grade1h>\n",
       " <pm25grade1h>2</pm25grade1h>\n",
       " </item>, <item>\n",
       " <datatime>2018-07-17 22:00</datatime>\n",
       " <mangname>도시대기</mangname>\n",
       " <so2value>0.006</so2value>\n",
       " <covalue>0.2</covalue>\n",
       " <o3value>0.003</o3value>\n",
       " <no2value>0.024</no2value>\n",
       " <pm10value>25</pm10value>\n",
       " <pm10value24>31</pm10value24>\n",
       " <pm25value>23</pm25value>\n",
       " <pm25value24>27</pm25value24>\n",
       " <khaivalue>79</khaivalue>\n",
       " <khaigrade>2</khaigrade>\n",
       " <so2grade>1</so2grade>\n",
       " <cograde>1</cograde>\n",
       " <o3grade>1</o3grade>\n",
       " <no2grade>1</no2grade>\n",
       " <pm10grade>2</pm10grade>\n",
       " <pm25grade>2</pm25grade>\n",
       " <pm10grade1h>1</pm10grade1h>\n",
       " <pm25grade1h>2</pm25grade1h>\n",
       " </item>, <item>\n",
       " <datatime>2018-07-17 21:00</datatime>\n",
       " <mangname>도시대기</mangname>\n",
       " <so2value>0.005</so2value>\n",
       " <covalue>0.3</covalue>\n",
       " <o3value>0.006</o3value>\n",
       " <no2value>0.024</no2value>\n",
       " <pm10value>-</pm10value>\n",
       " <pm10value24>31</pm10value24>\n",
       " <pm25value>30</pm25value>\n",
       " <pm25value24>27</pm25value24>\n",
       " <khaivalue>79</khaivalue>\n",
       " <khaigrade>2</khaigrade>\n",
       " <so2grade>1</so2grade>\n",
       " <cograde>1</cograde>\n",
       " <o3grade>1</o3grade>\n",
       " <no2grade>1</no2grade>\n",
       " <pm10grade>2</pm10grade>\n",
       " <pm25grade>2</pm25grade>\n",
       " <pm10grade1h></pm10grade1h>\n",
       " <pm25grade1h>2</pm25grade1h>\n",
       " </item>, <item>\n",
       " <datatime>2018-07-17 20:00</datatime>\n",
       " <mangname>도시대기</mangname>\n",
       " <so2value>0.004</so2value>\n",
       " <covalue>0.4</covalue>\n",
       " <o3value>0.013</o3value>\n",
       " <no2value>0.024</no2value>\n",
       " <pm10value>28</pm10value>\n",
       " <pm10value24>32</pm10value24>\n",
       " <pm25value>27</pm25value>\n",
       " <pm25value24>27</pm25value24>\n",
       " <khaivalue>79</khaivalue>\n",
       " <khaigrade>2</khaigrade>\n",
       " <so2grade>1</so2grade>\n",
       " <cograde>1</cograde>\n",
       " <o3grade>1</o3grade>\n",
       " <no2grade>1</no2grade>\n",
       " <pm10grade>2</pm10grade>\n",
       " <pm25grade>2</pm25grade>\n",
       " <pm10grade1h>1</pm10grade1h>\n",
       " <pm25grade1h>2</pm25grade1h>\n",
       " </item>, <item>\n",
       " <datatime>2018-07-17 19:00</datatime>\n",
       " <mangname>도시대기</mangname>\n",
       " <so2value>0.004</so2value>\n",
       " <covalue>0.3</covalue>\n",
       " <o3value>0.020</o3value>\n",
       " <no2value>0.017</no2value>\n",
       " <pm10value>27</pm10value>\n",
       " <pm10value24>34</pm10value24>\n",
       " <pm25value>22</pm25value>\n",
       " <pm25value24>27</pm25value24>\n",
       " <khaivalue>79</khaivalue>\n",
       " <khaigrade>2</khaigrade>\n",
       " <so2grade>1</so2grade>\n",
       " <cograde>1</cograde>\n",
       " <o3grade>1</o3grade>\n",
       " <no2grade>1</no2grade>\n",
       " <pm10grade>2</pm10grade>\n",
       " <pm25grade>2</pm25grade>\n",
       " <pm10grade1h>1</pm10grade1h>\n",
       " <pm25grade1h>2</pm25grade1h>\n",
       " </item>, <item>\n",
       " <datatime>2018-07-17 18:00</datatime>\n",
       " <mangname>도시대기</mangname>\n",
       " <so2value>0.004</so2value>\n",
       " <covalue>0.3</covalue>\n",
       " <o3value>0.019</o3value>\n",
       " <no2value>0.014</no2value>\n",
       " <pm10value>27</pm10value>\n",
       " <pm10value24>35</pm10value24>\n",
       " <pm25value>25</pm25value>\n",
       " <pm25value24>28</pm25value24>\n",
       " <khaivalue>82</khaivalue>\n",
       " <khaigrade>2</khaigrade>\n",
       " <so2grade>1</so2grade>\n",
       " <cograde>1</cograde>\n",
       " <o3grade>1</o3grade>\n",
       " <no2grade>1</no2grade>\n",
       " <pm10grade>2</pm10grade>\n",
       " <pm25grade>2</pm25grade>\n",
       " <pm10grade1h>1</pm10grade1h>\n",
       " <pm25grade1h>2</pm25grade1h>\n",
       " </item>, <item>\n",
       " <datatime>2018-07-17 17:00</datatime>\n",
       " <mangname>도시대기</mangname>\n",
       " <so2value>0.006</so2value>\n",
       " <covalue>0.2</covalue>\n",
       " <o3value>0.020</o3value>\n",
       " <no2value>0.014</no2value>\n",
       " <pm10value>37</pm10value>\n",
       " <pm10value24>37</pm10value24>\n",
       " <pm25value>34</pm25value>\n",
       " <pm25value24>28</pm25value24>\n",
       " <khaivalue>82</khaivalue>\n",
       " <khaigrade>2</khaigrade>\n",
       " <so2grade>1</so2grade>\n",
       " <cograde>1</cograde>\n",
       " <o3grade>1</o3grade>\n",
       " <no2grade>1</no2grade>\n",
       " <pm10grade>2</pm10grade>\n",
       " <pm25grade>2</pm25grade>\n",
       " <pm10grade1h>2</pm10grade1h>\n",
       " <pm25grade1h>2</pm25grade1h>\n",
       " </item>, <item>\n",
       " <datatime>2018-07-17 16:00</datatime>\n",
       " <mangname>도시대기</mangname>\n",
       " <so2value>0.008</so2value>\n",
       " <covalue>0.3</covalue>\n",
       " <o3value>0.028</o3value>\n",
       " <no2value>0.017</no2value>\n",
       " <pm10value>38</pm10value>\n",
       " <pm10value24>37</pm10value24>\n",
       " <pm25value>36</pm25value>\n",
       " <pm25value24>27</pm25value24>\n",
       " <khaivalue>79</khaivalue>\n",
       " <khaigrade>2</khaigrade>\n",
       " <so2grade>1</so2grade>\n",
       " <cograde>1</cograde>\n",
       " <o3grade>1</o3grade>\n",
       " <no2grade>1</no2grade>\n",
       " <pm10grade>2</pm10grade>\n",
       " <pm25grade>2</pm25grade>\n",
       " <pm10grade1h>2</pm10grade1h>\n",
       " <pm25grade1h>3</pm25grade1h>\n",
       " </item>]"
      ]
     },
     "execution_count": 17,
     "metadata": {},
     "output_type": "execute_result"
    }
   ],
   "source": [
    "# item tag 검색 결과\n",
    "\n",
    "parsed"
   ]
  },
  {
   "cell_type": "markdown",
   "metadata": {},
   "source": [
    "---"
   ]
  },
  {
   "cell_type": "code",
   "execution_count": 151,
   "metadata": {},
   "outputs": [],
   "source": [
    "# 수치 tuple 형태로 저장\n",
    "\n",
    "contentDic = {}\n",
    "\n",
    "for i, j in enumerate(parsed):\n",
    "    temp = []\n",
    "    temp = j.get_text().split(\"\\n\")\n",
    "    temp = temp[1:len(temp)-1]\n",
    "    contentList = [i]\n",
    "    contentList += temp\n",
    "    contentDic[i] = tuple(contentList)"
   ]
  },
  {
   "cell_type": "code",
   "execution_count": 152,
   "metadata": {},
   "outputs": [],
   "source": [
    "# 수치 contentList에 저장\n",
    "\n",
    "contentList = []\n",
    "\n",
    "for content in contentDic.values():\n",
    "    contentList.append(content)"
   ]
  },
  {
   "cell_type": "code",
   "execution_count": 153,
   "metadata": {},
   "outputs": [],
   "source": [
    "# tag 이름 저장\n",
    "typeList = [\"INT PRIMARY KEY\", \"TEXT\", \"TEXT\", \"REAL\", \"REAL\", \"REAL\", \"REAL\", \"INT\", \"INT\", \"INT\", \"INT\", \"INT\", \"INT\", \"INT\", \"INT\", \"INT\", \"INT\", \"INT\", \"INT\", \"INT\", \"INT\"]\n",
    "\n",
    "tagList = ['id']\n",
    "\n",
    "for j in parsed[0]:\n",
    "    if j.name:\n",
    "        tagList.append(j.name)"
   ]
  },
  {
   "cell_type": "code",
   "execution_count": 154,
   "metadata": {},
   "outputs": [
    {
     "data": {
      "text/plain": [
       "['id',\n",
       " 'datatime',\n",
       " 'mangname',\n",
       " 'so2value',\n",
       " 'covalue',\n",
       " 'o3value',\n",
       " 'no2value',\n",
       " 'pm10value',\n",
       " 'pm10value24',\n",
       " 'pm25value',\n",
       " 'pm25value24',\n",
       " 'khaivalue',\n",
       " 'khaigrade',\n",
       " 'so2grade',\n",
       " 'cograde',\n",
       " 'o3grade',\n",
       " 'no2grade',\n",
       " 'pm10grade',\n",
       " 'pm25grade',\n",
       " 'pm10grade1h',\n",
       " 'pm25grade1h']"
      ]
     },
     "execution_count": 154,
     "metadata": {},
     "output_type": "execute_result"
    }
   ],
   "source": [
    "# tagList 결과\n",
    "\n",
    "tagList"
   ]
  },
  {
   "cell_type": "code",
   "execution_count": 147,
   "metadata": {},
   "outputs": [],
   "source": [
    "import sqlite3"
   ]
  },
  {
   "cell_type": "code",
   "execution_count": 148,
   "metadata": {},
   "outputs": [
    {
     "name": "stdout",
     "output_type": "stream",
     "text": [
      "CREATE TABLE UrbanAir( id INT PRIMARY KEY, datatime TEXT, mangname TEXT, so2value TEXT, covalue TEXT, o3value TEXT, no2value TEXT, pm10value TEXT, pm10value24 TEXT, pm25value TEXT, pm25value24 TEXT, khaivalue TEXT, khaigrade TEXT, so2grade TEXT, cograde TEXT, o3grade TEXT, no2grade TEXT, pm10grade TEXT, pm25grade TEXT, pm10grade1h TEXT, pm25grade1h TEXT)\n"
     ]
    }
   ],
   "source": [
    "urban_air = \"CREATE TABLE UrbanAir(\"\n",
    "\n",
    "for i in range(0, len(tagList)-1):\n",
    "    urban_air += ' ' + tagList[i] +' ' + typeList[i] + ','\n",
    "\n",
    "urban_air += ' '+ tagList[i+1] +' ' + typeList[i+1] +')'\n",
    "\n",
    "print(urban_air)"
   ]
  },
  {
   "cell_type": "code",
   "execution_count": 156,
   "metadata": {},
   "outputs": [],
   "source": [
    "con = sqlite3.connect(\"air_pollution.db\")\n",
    "\n",
    "with con:\n",
    "    cur = con.cursor()\n",
    "    cur.execute(\"DROP TABLE IF EXISTS UrbanAir\")\n",
    "    cur.execute(urban_air)\n",
    "    cur.executemany(\"INSERT INTO UrbanAir VALUES(?, ?, ?, ?, ?, ?, ?, ?, ?, ?, ?, ?, ?, ?, ?, ?, ?, ?, ?, ?, ?)\", contentList)"
   ]
  },
  {
   "cell_type": "markdown",
   "metadata": {},
   "source": [
    "---"
   ]
  }
 ],
 "metadata": {
  "kernelspec": {
   "display_name": "Python 3",
   "language": "python",
   "name": "python3"
  },
  "language_info": {
   "codemirror_mode": {
    "name": "ipython",
    "version": 3
   },
   "file_extension": ".py",
   "mimetype": "text/x-python",
   "name": "python",
   "nbconvert_exporter": "python",
   "pygments_lexer": "ipython3",
   "version": "3.6.5"
  }
 },
 "nbformat": 4,
 "nbformat_minor": 2
}
