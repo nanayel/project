{
 "cells": [
  {
   "cell_type": "markdown",
   "metadata": {},
   "source": [
    "# Python 실습 _ 0709"
   ]
  },
  {
   "cell_type": "markdown",
   "metadata": {},
   "source": [
    "---"
   ]
  },
  {
   "cell_type": "markdown",
   "metadata": {},
   "source": [
    "## 김예린"
   ]
  },
  {
   "cell_type": "markdown",
   "metadata": {},
   "source": [
    "---"
   ]
  },
  {
   "cell_type": "markdown",
   "metadata": {},
   "source": [
    "## Exercise 130 : Text Messaging"
   ]
  },
  {
   "cell_type": "code",
   "execution_count": 8,
   "metadata": {},
   "outputs": [
    {
     "name": "stdout",
     "output_type": "stream",
     "text": [
      "Hello, World!\n",
      "4433555555666110966677755531111\n",
      "Hello, Python!\n",
      "443355555566611096667775553111144335555556661107999844666661111\n",
      "q\n"
     ]
    }
   ],
   "source": [
    "def text_message(word):\n",
    "    dic = {'1':['.', ',', '?', '!', ':'], '2':['A','B','C'], '3':['D','E','F'], '4':['G','H','I'], '5':['J','K','L'], '6':['M','N','O'], '7':['P','Q','R','S'], '8':['T','U','V'],'9':['W','X','Y','Z'],'0':[' ']}\n",
    "    \n",
    "    for i in dic.keys():\n",
    "        for j in range(len(dic[i])):\n",
    "            if word == dic[i][j]:\n",
    "                return i * (j+1)\n",
    "    return ''\n",
    "    \n",
    "# main\n",
    "line = input()\n",
    "output = ''\n",
    "\n",
    "while line != 'q':\n",
    "    line = line.upper()\n",
    "    words = list(line)\n",
    "    \n",
    "    for i in range(len(words)):\n",
    "        output += text_message(words[i])\n",
    "        \n",
    "    print(output)\n",
    "    line = input()"
   ]
  },
  {
   "cell_type": "markdown",
   "metadata": {},
   "source": [
    "---"
   ]
  },
  {
   "cell_type": "markdown",
   "metadata": {},
   "source": [
    "## Exercise 131 : Morse Code"
   ]
  },
  {
   "cell_type": "code",
   "execution_count": 14,
   "metadata": {},
   "outputs": [
    {
     "name": "stdout",
     "output_type": "stream",
     "text": [
      "Hello, World!\n",
      " .... . .-.. .-.. --- .-- --- .-. .-.. -..\n",
      "Hello, Python!\n",
      " .... . .-.. .-.. --- .-- --- .-. .-.. -.. .... . .-.. .-.. --- .--. -.-- - .... --- -.\n",
      "q\n"
     ]
    }
   ],
   "source": [
    "def morse_code(word):\n",
    "    dic = {'A':'.-', 'B':'-...', 'C':'-.-.', 'D':'-..', 'E':'.', 'F':'..-.',\n",
    "           'G':'--.', 'H':'....', 'I':'..', 'J':'.---', 'K':'-.-', 'L':'.-..',\n",
    "           'M':'--', 'N':'-.', 'O':'---', 'P':'.--.', 'Q':'--.-', 'R':'.-.',\n",
    "           'S':'...', 'T':'-','U':'..-','V':'...-','W':'.--','X':'-..-',\n",
    "           'Y':'-.--','Z':'--..','0':'-----','1':'.----','2':'..---',\n",
    "           '3':'...--', '4':'....-', '5':'.....', '6':'-....', '7':'--...',\n",
    "           '8':'---..','9':'----.'\n",
    "    }\n",
    "    \n",
    "    for i in dic.keys():\n",
    "        if word == i:\n",
    "            return dic[i]\n",
    "        \n",
    "    return ''\n",
    "    \n",
    "# main\n",
    "line = input()\n",
    "output = ''\n",
    "\n",
    "while line != 'q':\n",
    "    line = line.upper()\n",
    "    words = list(line)\n",
    "    \n",
    "    for i in range(len(words)):\n",
    "        if morse_code(words[i]) != '':\n",
    "            output += ' ' + morse_code(words[i])\n",
    "        \n",
    "    print(output)\n",
    "    line = input()"
   ]
  },
  {
   "cell_type": "markdown",
   "metadata": {},
   "source": [
    "---"
   ]
  },
  {
   "cell_type": "markdown",
   "metadata": {},
   "source": [
    "## Exercise 132 : Postal Codes"
   ]
  },
  {
   "cell_type": "code",
   "execution_count": 20,
   "metadata": {},
   "outputs": [
    {
     "name": "stdout",
     "output_type": "stream",
     "text": [
      "T2N1N4\n",
      "The postal code is for an urban address in Alberta.\n",
      "X0A1B2\n",
      "The postal code is for a rural address in Nunavut or Northwest Territories.\n",
      "q\n"
     ]
    }
   ],
   "source": [
    "def postal_code(word):\n",
    "    dic = {\n",
    "        'A':'Newfoundland', 'B':'Nova Scotia', 'C':'Prince Edward Island', \n",
    "        'E':'New Brunswick','G':'Quebec', 'H':'Quebec', 'J':'Quebec', \n",
    "        'K':'Ontario', 'L':'Ontario','M':'Ontario', 'N':'Ontario', \n",
    "        'P':'Ontario', 'R':'Manitoba','S':'Saskatchewan', 'T':'Alberta',\n",
    "        'V':'British Columbia','X':'Nunavut or Northwest Territories','Y':'Yukon'\n",
    "    }\n",
    "    \n",
    "    for i in dic.keys():\n",
    "        if word == i:\n",
    "            return dic[i]\n",
    "        \n",
    "    return ''\n",
    "    \n",
    "# main\n",
    "line = input()\n",
    "\n",
    "while line != 'q':\n",
    "    line = line.upper()\n",
    "    words = list(line)\n",
    "    output = 'The postal code is for a'\n",
    "    \n",
    "    if len(words) != 6:\n",
    "        print(\"The letter's number of Postal Codes is 6.\")\n",
    "    else:\n",
    "        if postal_code(words[0]) == '':\n",
    "            print('This code is an incorrect code.')\n",
    "        else:\n",
    "            if words[1] == '0':\n",
    "                output += ' rural address in '\n",
    "                output += postal_code(words[0]) + '.'  \n",
    "            else:\n",
    "                output += 'n urban address in '\n",
    "                output += postal_code(words[0]) + '.'\n",
    "        \n",
    "    print(output)\n",
    "    line = input()"
   ]
  },
  {
   "cell_type": "markdown",
   "metadata": {},
   "source": [
    "---"
   ]
  }
 ],
 "metadata": {
  "kernelspec": {
   "display_name": "Python 3",
   "language": "python",
   "name": "python3"
  },
  "language_info": {
   "codemirror_mode": {
    "name": "ipython",
    "version": 3
   },
   "file_extension": ".py",
   "mimetype": "text/x-python",
   "name": "python",
   "nbconvert_exporter": "python",
   "pygments_lexer": "ipython3",
   "version": "3.6.5"
  }
 },
 "nbformat": 4,
 "nbformat_minor": 2
}
