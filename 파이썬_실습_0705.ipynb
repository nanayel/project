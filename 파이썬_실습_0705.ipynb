{
 "cells": [
  {
   "cell_type": "markdown",
   "metadata": {},
   "source": [
    "# Python 실습 _ 0705"
   ]
  },
  {
   "cell_type": "markdown",
   "metadata": {},
   "source": [
    "---"
   ]
  },
  {
   "cell_type": "markdown",
   "metadata": {},
   "source": [
    "## 김예린"
   ]
  },
  {
   "cell_type": "markdown",
   "metadata": {},
   "source": [
    "---"
   ]
  },
  {
   "cell_type": "markdown",
   "metadata": {},
   "source": [
    "## Exercise 82 : Taxi Fare"
   ]
  },
  {
   "cell_type": "code",
   "execution_count": 1,
   "metadata": {},
   "outputs": [
    {
     "name": "stdout",
     "output_type": "stream",
     "text": [
      "140\n",
      "$ 254.0\n",
      "11\n",
      "$ 23.5\n",
      "ee\n",
      "Please enter a distance in kilometers\n",
      "q\n"
     ]
    }
   ],
   "source": [
    "def taxi_fare(distance):\n",
    "    distance *= 1000\n",
    "    return 4.0 + 0.25 * int(distance/140)\n",
    "\n",
    "# main\n",
    "line = input()\n",
    "\n",
    "while line != 'q':\n",
    "    try:\n",
    "        distance = int(line)\n",
    "    except:\n",
    "        print(\"Please enter a distance in kilometers\")\n",
    "    else:\n",
    "        print('$', taxi_fare(distance))\n",
    "    line = input()"
   ]
  },
  {
   "cell_type": "markdown",
   "metadata": {},
   "source": [
    "---"
   ]
  },
  {
   "cell_type": "markdown",
   "metadata": {},
   "source": [
    "## Exercise 84 : Median of Three Values"
   ]
  },
  {
   "cell_type": "code",
   "execution_count": 2,
   "metadata": {},
   "outputs": [
    {
     "name": "stdout",
     "output_type": "stream",
     "text": [
      "1, 2, 3\n",
      "2\n",
      "10, 22222, 1\n",
      "10\n",
      "qwer, we\n",
      "Please enter a number.\n",
      "q\n"
     ]
    }
   ],
   "source": [
    "def median(x, y, z):\n",
    "    return y\n",
    "\n",
    "# main\n",
    "line = input()\n",
    "nums = []\n",
    "\n",
    "while line != 'q':\n",
    "    nums = line.split(',')\n",
    "    try:\n",
    "        for i in range(len(nums)):\n",
    "            nums[i] = int(nums[i])\n",
    "            \n",
    "        nums.sort()\n",
    "        num1 = nums[0]\n",
    "        num2 = nums[1]\n",
    "        num3 = nums[2]\n",
    "        \n",
    "    except:\n",
    "        print(\"Please enter a number.\")\n",
    "    else:\n",
    "        print(median(num1, num2, num3))\n",
    "    line = input()"
   ]
  },
  {
   "cell_type": "markdown",
   "metadata": {},
   "source": [
    "---"
   ]
  },
  {
   "cell_type": "markdown",
   "metadata": {},
   "source": [
    "## Exercise 85 : Convert an Integer to its Ordinal Number"
   ]
  },
  {
   "cell_type": "code",
   "execution_count": 5,
   "metadata": {},
   "outputs": [
    {
     "name": "stdout",
     "output_type": "stream",
     "text": [
      "first\n",
      "second\n",
      "third\n",
      "fourth\n",
      "fifth\n",
      "sixth\n",
      "seventh\n",
      "eighth\n",
      "ninth\n",
      "tenth\n",
      "eleventh\n",
      "twelfth\n"
     ]
    }
   ],
   "source": [
    "def ordinal_number(num):\n",
    "    if num == 1:\n",
    "        return 'first'\n",
    "    elif num == 2:\n",
    "        return 'second'\n",
    "    elif num == 3:\n",
    "        return 'third'\n",
    "    elif num == 4:\n",
    "        return 'fourth'\n",
    "    elif num == 5:\n",
    "        return 'fifth'\n",
    "    elif num == 6:\n",
    "        return 'sixth'\n",
    "    elif num == 7:\n",
    "        return 'seventh'\n",
    "    elif num == 8:\n",
    "        return 'eighth'\n",
    "    elif num == 9:\n",
    "        return 'ninth'\n",
    "    elif num == 10:\n",
    "        return 'tenth'\n",
    "    elif num == 11:\n",
    "        return 'eleventh'\n",
    "    elif num == 12:\n",
    "        return 'twelfth'\n",
    "    else:\n",
    "        return ''\n",
    "    \n",
    "# main\n",
    "for i in range(1, 13):\n",
    "    print(ordinal_number(i))"
   ]
  },
  {
   "cell_type": "markdown",
   "metadata": {},
   "source": [
    "---"
   ]
  },
  {
   "cell_type": "markdown",
   "metadata": {},
   "source": [
    "## Exercise 86 : The Twelve Days of Christmas"
   ]
  },
  {
   "cell_type": "code",
   "execution_count": 25,
   "metadata": {},
   "outputs": [
    {
     "name": "stdout",
     "output_type": "stream",
     "text": [
      "On the first day of Christmas\n",
      "my true love sent to me:\n",
      "A partridge in a pear tree\n",
      "\n",
      "On the second day of Christmas\n",
      "my true love sent to me:\n",
      "Two turtle doves,\n",
      "And a partridge in a pear tree.\n",
      "\n",
      "On the third day of Christmas\n",
      "my true love sent to me:\n",
      "Three French Hens,\n",
      "Two turtle doves,\n",
      "And a partridge in a pear tree.\n",
      "\n",
      "On the fourth day of Christmas\n",
      "my true love sent to me:\n",
      "Four calling birds,\n",
      "Three French Hens,\n",
      "Two turtle doves,\n",
      "And a partridge in a pear tree.\n",
      "\n",
      "On the fifth day of Christmas\n",
      "my true love sent to me:\n",
      "Five golden rings,\n",
      "Four calling birds,\n",
      "Three French Hens,\n",
      "Two turtle doves,\n",
      "And a partridge in a pear tree.\n",
      "\n",
      "On the sixth day of Christmas\n",
      "my true love sent to me:\n",
      "Six geese a-laying,\n",
      "Five golden rings,\n",
      "Four calling birds,\n",
      "Three French Hens,\n",
      "Two turtle doves,\n",
      "And a partridge in a pear tree.\n",
      "\n",
      "On the seventh day of Christmas\n",
      "my true love sent to me:\n",
      "Seven swans-a-swimming,\n",
      "Six geese a-laying,\n",
      "Five golden rings,\n",
      "Four calling birds,\n",
      "Three French Hens,\n",
      "Two turtle doves,\n",
      "And a partridge in a pear tree.\n",
      "\n",
      "On the eighth day of Christmas\n",
      "my true love sent to me:\n",
      "Eight maids a-milking,\n",
      "Seven swans-a-swimming,\n",
      "Six geese a-laying,\n",
      "Five golden rings,\n",
      "Four calling birds,\n",
      "Three French Hens,\n",
      "Two turtle doves,\n",
      "And a partridge in a pear tree.\n",
      "\n",
      "On the ninth day of Christmas\n",
      "my true love sent to me:\n",
      "Nine ladies dancing,\n",
      "Eight maids a-milking,\n",
      "Seven swans-a-swimming,\n",
      "Six geese a-laying,\n",
      "Five golden rings,\n",
      "Four calling birds,\n",
      "Three French Hens,\n",
      "Two turtle doves,\n",
      "And a partridge in a pear tree.\n",
      "\n",
      "On the tenth day of Christmas\n",
      "my true love sent to me:\n",
      "Ten lords a-leaping,\n",
      "Nine ladies dancing,\n",
      "Eight maids a-milking,\n",
      "Seven swans-a-swimming,\n",
      "Six geese a-laying,\n",
      "Five golden rings,\n",
      "Four calling birds,\n",
      "Three French Hens,\n",
      "Two turtle doves,\n",
      "And a partridge in a pear tree.\n",
      "\n",
      "On the eleventh day of Christmas\n",
      "my true love sent to me:\n",
      "Eleven pipers piping,\n",
      "Ten lords a-leaping,\n",
      "Nine ladies dancing,\n",
      "Eight maids a-milking,\n",
      "Seven swans-a-swimming,\n",
      "Six geese a-laying,\n",
      "Five golden rings,\n",
      "Four calling birds,\n",
      "Three French Hens,\n",
      "Two turtle doves,\n",
      "And a partridge in a pear tree.\n",
      "\n",
      "On the twelfth day of Christmas\n",
      "my true love sent to me:\n",
      "Twelve drummers drumming,\n",
      "Eleven pipers piping,\n",
      "Ten lords a-leaping,\n",
      "Nine ladies dancing,\n",
      "Eight maids a-milking,\n",
      "Seven swans-a-swimming,\n",
      "Six geese a-laying,\n",
      "Five golden rings,\n",
      "Four calling birds,\n",
      "Three French Hens,\n",
      "Two turtle doves,\n",
      "And a partridge in a pear tree.\n",
      "\n"
     ]
    }
   ],
   "source": [
    "def ordinal_number(num):\n",
    "    if num == 1:\n",
    "        return 'first'\n",
    "    elif num == 2:\n",
    "        return 'second'\n",
    "    elif num == 3:\n",
    "        return 'third'\n",
    "    elif num == 4:\n",
    "        return 'fourth'\n",
    "    elif num == 5:\n",
    "        return 'fifth'\n",
    "    elif num == 6:\n",
    "        return 'sixth'\n",
    "    elif num == 7:\n",
    "        return 'seventh'\n",
    "    elif num == 8:\n",
    "        return 'eighth'\n",
    "    elif num == 9:\n",
    "        return 'ninth'\n",
    "    elif num == 10:\n",
    "        return 'tenth'\n",
    "    elif num == 11:\n",
    "        return 'eleventh'\n",
    "    elif num == 12:\n",
    "        return 'twelfth'\n",
    "    else:\n",
    "        return ''\n",
    "    \n",
    "list_ = ['partridge in a pear tree', 'turtle doves', 'French Hens', 'calling birds', 'golden rings', 'geese a-laying', 'swans-a-swimming', 'maids a-milking', 'ladies dancing', 'lords a-leaping', 'pipers piping', 'drummers drumming']\n",
    "list_num = ['a', 'Two', 'Three', 'Four', 'Five', 'Six', 'Seven', 'Eight', 'Nine', 'Ten', 'Eleven', 'Twelve']\n",
    "    \n",
    "list_.reverse()\n",
    "list_num.reverse()\n",
    "\n",
    "def song(num):    \n",
    "    print('On the', end = ' ')\n",
    "    print(ordinal_number(num), end = ' ')\n",
    "    print('day of Christmas')\n",
    "    print('my true love sent to me:')\n",
    "    \n",
    "    if num == 1:\n",
    "        print('A', end=' ')\n",
    "        print(list_[11])\n",
    "        \n",
    "    else:\n",
    "        for i in range(12-num, 12):\n",
    "            if i != 11:\n",
    "                print(list_num[i], end=' ')\n",
    "                print(list_[i], end='')\n",
    "                print(',')\n",
    "            else:\n",
    "                print('And', end=' ')\n",
    "                print(list_num[i], end=' ')\n",
    "                print(list_[i], end='')\n",
    "                print('.')\n",
    "                \n",
    "                \n",
    "# main\n",
    "for i in range(1, 13):\n",
    "    song(i)\n",
    "    print()"
   ]
  },
  {
   "cell_type": "markdown",
   "metadata": {},
   "source": [
    "---"
   ]
  },
  {
   "cell_type": "markdown",
   "metadata": {},
   "source": [
    "## Exercise 88 : Is it a Valid Triangle?"
   ]
  },
  {
   "cell_type": "code",
   "execution_count": 6,
   "metadata": {},
   "outputs": [
    {
     "name": "stdout",
     "output_type": "stream",
     "text": [
      "2, 3, 4\n",
      "It is a valid triangle.\n",
      "3, 4, 5\n",
      "It is a valid triangle.\n",
      "10, 2, 4\n",
      "It is not a valid triangle.\n",
      "1, 1, 1\n",
      "It is a valid triangle.\n",
      "1234, 567, 33\n",
      "It is not a valid triangle.\n",
      "q\n"
     ]
    }
   ],
   "source": [
    "def valid_triangle(len1, len2, len3):\n",
    "    if len3 < len1 + len2:\n",
    "        return True\n",
    "    else:\n",
    "        return False\n",
    "    \n",
    "# main\n",
    "line = input()\n",
    "nums = []\n",
    "\n",
    "while line != 'q':\n",
    "    nums = line.split(',')\n",
    "    try:\n",
    "        for i in range(len(nums)):\n",
    "            nums[i] = int(nums[i])\n",
    "            \n",
    "        nums.sort()\n",
    "        num1 = nums[0]\n",
    "        num2 = nums[1]\n",
    "        num3 = nums[2]\n",
    "        \n",
    "    except:\n",
    "        print(\"Please enter a number.\")\n",
    "    else:\n",
    "        if valid_triangle(num1, num2, num3):\n",
    "            print('It is a valid triangle.')\n",
    "        else:\n",
    "            print('It is not a valid triangle.')\n",
    "    line = input()\n",
    "        "
   ]
  },
  {
   "cell_type": "markdown",
   "metadata": {},
   "source": [
    "---"
   ]
  },
  {
   "cell_type": "markdown",
   "metadata": {},
   "source": [
    "## Exercise 89 : Capitalize It"
   ]
  },
  {
   "cell_type": "code",
   "execution_count": 6,
   "metadata": {},
   "outputs": [
    {
     "name": "stdout",
     "output_type": "stream",
     "text": [
      "what time do i have to be there? what's the address?\n",
      "What time do I have to be there? What's the address?\n",
      "i have some banana, do you want to eat? if you want, i will give some banana for you.\n",
      "I have some banana, do you want to eat? If you want, I will give some banana for you.\n",
      "\n"
     ]
    }
   ],
   "source": [
    "def capitalize(line):\n",
    "    line[0] = line[0].upper()\n",
    "    for i in range(len(line)):\n",
    "        if line[i] == ' ':\n",
    "            if i+1 < len(line) and line[i+1] == 'i':\n",
    "                line[i+1] = 'I'\n",
    "        elif line[i] == '\"':\n",
    "            if i+1 < len(line):\n",
    "                line[i+1] = line[i+1].upper()\n",
    "        elif line[i] == '?' or line[i] == '!' or line[i] == '.':\n",
    "            if i+2 < len(line):\n",
    "                line[i+2] = line[i+2].upper()\n",
    "        else:\n",
    "            continue\n",
    "    return ''.join(line)\n",
    "\n",
    "# main\n",
    "line_ = input()\n",
    "\n",
    "while line_:\n",
    "    print(capitalize(list(line_)))\n",
    "    line_ = input()"
   ]
  },
  {
   "cell_type": "markdown",
   "metadata": {},
   "source": [
    "---"
   ]
  },
  {
   "cell_type": "markdown",
   "metadata": {},
   "source": [
    "## Exercise 90 : Does a String Represent an Integer?"
   ]
  },
  {
   "cell_type": "code",
   "execution_count": 8,
   "metadata": {},
   "outputs": [
    {
     "name": "stdout",
     "output_type": "stream",
     "text": [
      "+1\n",
      "This is an integer.\n",
      "1\n",
      "This is an integer.\n",
      "12345677\n",
      "This is an integer.\n",
      "mmm\n",
      "This is not an integer.\n",
      "-1-1-1-\n",
      "This is not an integer.\n",
      "\n"
     ]
    }
   ],
   "source": [
    "def isInteger(line):\n",
    "    try:\n",
    "        int(''.join(line))\n",
    "    except:\n",
    "        return False\n",
    "    else:\n",
    "        return True\n",
    "    \n",
    "# main\n",
    "line = input()\n",
    "\n",
    "while line:\n",
    "    line.replace(\" \", \"\")\n",
    "    for_line = list(line)\n",
    "    \n",
    "    if for_line[0] == '+' or for_line[0] == '-':\n",
    "        if isInteger(line[1:]):\n",
    "            print(\"This is an integer.\")\n",
    "        else:\n",
    "            print(\"This is not an integer.\")\n",
    "    else:\n",
    "        if isInteger(line):\n",
    "            print(\"This is an integer.\")\n",
    "        else:\n",
    "            print(\"This is not an integer.\")\n",
    "    line = input()\n",
    "        \n",
    "        \n"
   ]
  },
  {
   "cell_type": "markdown",
   "metadata": {},
   "source": [
    "---"
   ]
  },
  {
   "cell_type": "markdown",
   "metadata": {},
   "source": [
    "## Exercise 92 : Is a Number Prime?"
   ]
  },
  {
   "cell_type": "code",
   "execution_count": 10,
   "metadata": {},
   "outputs": [
    {
     "name": "stdout",
     "output_type": "stream",
     "text": [
      "99\n",
      "99 is not a prime.\n",
      "1234567\n",
      "1234567 is not a prime.\n",
      "2345\n",
      "2345 is not a prime.\n",
      "12\n",
      "12 is not a prime.\n",
      "37\n",
      "37 is a prime.\n",
      "49\n",
      "49 is not a prime.\n",
      "235\n",
      "235 is not a prime.\n",
      "17\n",
      "17 is a prime.\n",
      "\n",
      "Please enter a number\n",
      "q\n"
     ]
    }
   ],
   "source": [
    "def prime(num):\n",
    "    if num == 1:\n",
    "        return False\n",
    "    else:\n",
    "        for i in range(2, int(num/2 + 1)):\n",
    "            if num%i == 0:\n",
    "                return False\n",
    "        if i == int(num/2):\n",
    "            return True\n",
    "        \n",
    "# main\n",
    "line = input()\n",
    "\n",
    "while line != 'q':\n",
    "    try:\n",
    "        num = int(line)\n",
    "    except:\n",
    "        print(\"Please enter a number\")\n",
    "    else:\n",
    "        if prime(num):\n",
    "            print(num, 'is a prime.')\n",
    "        else:\n",
    "            print(num, 'is not a prime.')\n",
    "    line = input()"
   ]
  },
  {
   "cell_type": "markdown",
   "metadata": {},
   "source": [
    "---"
   ]
  },
  {
   "cell_type": "markdown",
   "metadata": {},
   "source": [
    "## Exercise 93 : Next Prime"
   ]
  },
  {
   "cell_type": "code",
   "execution_count": 3,
   "metadata": {},
   "outputs": [
    {
     "name": "stdout",
     "output_type": "stream",
     "text": [
      "1\n",
      "2\n",
      "223\n",
      "227\n",
      "123455\n",
      "123457\n",
      "23\n",
      "29\n",
      "17\n",
      "19\n",
      "q\n"
     ]
    }
   ],
   "source": [
    "def prime(num):\n",
    "    if num == 1:\n",
    "        return False\n",
    "    elif num == 2:\n",
    "        return True\n",
    "    else:\n",
    "        for i in range(2, int(num/2 + 1)):\n",
    "            if num%i == 0:\n",
    "                return False\n",
    "        if i == int(num/2):\n",
    "            return True\n",
    "\n",
    "def nextPrime(num):\n",
    "    j = num+1\n",
    "    while True:\n",
    "        if prime(j):\n",
    "            return j\n",
    "        j+=1\n",
    "        \n",
    "# main\n",
    "line = input()\n",
    "\n",
    "while line != 'q':\n",
    "    try:\n",
    "        num = int(line)\n",
    "    except:\n",
    "        print(\"Please enter a number\")\n",
    "    else:\n",
    "        print(nextPrime(num))\n",
    "    line = input()"
   ]
  },
  {
   "cell_type": "markdown",
   "metadata": {},
   "source": [
    "---"
   ]
  },
  {
   "cell_type": "markdown",
   "metadata": {},
   "source": [
    "## Exercise 96 : Check a Password"
   ]
  },
  {
   "cell_type": "code",
   "execution_count": 3,
   "metadata": {},
   "outputs": [
    {
     "name": "stdout",
     "output_type": "stream",
     "text": [
      "111111144444qqq\n",
      "This is a insafe password.\n",
      "12345qqqqQQQQQ\n",
      "This is a safe password.\n",
      "ajskdjlsajdsjdlsajlk123445!22\n",
      "This is a insafe password.\n",
      "jfskjflsAAAAA\n",
      "This is a insafe password.\n",
      "jsdlfkjls11111\n",
      "This is a insafe password.\n",
      "slkdfjlkflsj!!!!AAAA@#$$s123\n",
      "This is a safe password.\n",
      "q\n"
     ]
    }
   ],
   "source": [
    "def good_password(line):\n",
    "    count1 = count2 = count3 = 0\n",
    "    if len(line) < 8:\n",
    "        return False\n",
    "    \n",
    "    for i in range(len(line)):\n",
    "        if line[i].isupper():\n",
    "            count1=1\n",
    "        elif line[i].islower():\n",
    "            count2=1\n",
    "        elif line[i].isnumeric():\n",
    "            count3=1\n",
    "    \n",
    "    if count1+count2+count3 == 3:\n",
    "        return True\n",
    "    else:\n",
    "        return False\n",
    "    \n",
    "# main\n",
    "line = input()\n",
    "\n",
    "while line != 'q':\n",
    "    if good_password(line):\n",
    "        print('This is a safe password.')\n",
    "    else:\n",
    "        print('This is a insafe password.')\n",
    "    line = input()"
   ]
  },
  {
   "cell_type": "markdown",
   "metadata": {},
   "source": [
    "---"
   ]
  }
 ],
 "metadata": {
  "kernelspec": {
   "display_name": "Python 3",
   "language": "python",
   "name": "python3"
  },
  "language_info": {
   "codemirror_mode": {
    "name": "ipython",
    "version": 3
   },
   "file_extension": ".py",
   "mimetype": "text/x-python",
   "name": "python",
   "nbconvert_exporter": "python",
   "pygments_lexer": "ipython3",
   "version": "3.6.5"
  }
 },
 "nbformat": 4,
 "nbformat_minor": 2
}
