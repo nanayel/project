{
 "cells": [
  {
   "cell_type": "markdown",
   "metadata": {},
   "source": [
    "---"
   ]
  },
  {
   "cell_type": "markdown",
   "metadata": {},
   "source": [
    "# Python 실습 _ 0704"
   ]
  },
  {
   "cell_type": "markdown",
   "metadata": {},
   "source": [
    "---"
   ]
  },
  {
   "cell_type": "markdown",
   "metadata": {},
   "source": [
    "## 김예린"
   ]
  },
  {
   "cell_type": "markdown",
   "metadata": {},
   "source": [
    "---"
   ]
  },
  {
   "cell_type": "markdown",
   "metadata": {},
   "source": [
    "## Exercise 61 : Average"
   ]
  },
  {
   "cell_type": "code",
   "execution_count": 1,
   "metadata": {},
   "outputs": [
    {
     "name": "stdout",
     "output_type": "stream",
     "text": [
      "1\n",
      "2\n",
      "3\n",
      "4\n",
      "5\n",
      "6\n",
      "0\n",
      "3.5\n"
     ]
    }
   ],
   "source": [
    "import numpy\n",
    "\n",
    "line = input()\n",
    "nums = []\n",
    "\n",
    "if line == '0':\n",
    "    print(\"Please enter a number except 0.\") \n",
    "else:\n",
    "    while line != '0':\n",
    "        try:\n",
    "            num = float(line)\n",
    "        except:\n",
    "            print(\"Please enter a number.\")\n",
    "        else:\n",
    "            nums.append(num)\n",
    "        line = input()\n",
    "    print(numpy.mean(nums))"
   ]
  },
  {
   "cell_type": "markdown",
   "metadata": {},
   "source": [
    "---"
   ]
  },
  {
   "cell_type": "markdown",
   "metadata": {},
   "source": [
    "## Exercise 63 : Temperature Conversion Table"
   ]
  },
  {
   "cell_type": "code",
   "execution_count": 50,
   "metadata": {},
   "outputs": [
    {
     "name": "stdout",
     "output_type": "stream",
     "text": [
      "   Celsius      |   Fahrenheit\n",
      "---------------------------------\n",
      "     0\t\t|      32.0\n",
      "     1\t\t|      33.8\n",
      "     2\t\t|      35.6\n",
      "     3\t\t|      37.4\n",
      "     4\t\t|      39.2\n",
      "     5\t\t|      41.0\n",
      "     6\t\t|      42.8\n",
      "     7\t\t|      44.6\n",
      "     8\t\t|      46.4\n",
      "     9\t\t|      48.2\n",
      "    10\t\t|      50.0\n",
      "    11\t\t|      51.8\n",
      "    12\t\t|      53.6\n",
      "    13\t\t|      55.4\n",
      "    14\t\t|      57.2\n",
      "    15\t\t|      59.0\n",
      "    16\t\t|      60.8\n",
      "    17\t\t|      62.6\n",
      "    18\t\t|      64.4\n",
      "    19\t\t|      66.2\n",
      "    20\t\t|      68.0\n",
      "    21\t\t|      69.8\n",
      "    22\t\t|      71.6\n",
      "    23\t\t|      73.4\n",
      "    24\t\t|      75.2\n",
      "    25\t\t|      77.0\n",
      "    26\t\t|      78.8\n",
      "    27\t\t|      80.6\n",
      "    28\t\t|      82.4\n",
      "    29\t\t|      84.2\n",
      "    30\t\t|      86.0\n",
      "    31\t\t|      87.8\n",
      "    32\t\t|      89.6\n",
      "    33\t\t|      91.4\n",
      "    34\t\t|      93.2\n",
      "    35\t\t|      95.0\n",
      "    36\t\t|      96.8\n",
      "    37\t\t|      98.6\n",
      "    38\t\t|      100.4\n",
      "    39\t\t|      102.2\n",
      "    40\t\t|      104.0\n",
      "    41\t\t|      105.8\n",
      "    42\t\t|      107.6\n",
      "    43\t\t|      109.4\n",
      "    44\t\t|      111.2\n",
      "    45\t\t|      113.0\n",
      "    46\t\t|      114.8\n",
      "    47\t\t|      116.6\n",
      "    48\t\t|      118.4\n",
      "    49\t\t|      120.2\n",
      "    50\t\t|      122.0\n",
      "    51\t\t|      123.8\n",
      "    52\t\t|      125.6\n",
      "    53\t\t|      127.4\n",
      "    54\t\t|      129.2\n",
      "    55\t\t|      131.0\n",
      "    56\t\t|      132.8\n",
      "    57\t\t|      134.6\n",
      "    58\t\t|      136.4\n",
      "    59\t\t|      138.2\n",
      "    60\t\t|      140.0\n",
      "    61\t\t|      141.8\n",
      "    62\t\t|      143.6\n",
      "    63\t\t|      145.4\n",
      "    64\t\t|      147.2\n",
      "    65\t\t|      149.0\n",
      "    66\t\t|      150.8\n",
      "    67\t\t|      152.6\n",
      "    68\t\t|      154.4\n",
      "    69\t\t|      156.2\n",
      "    70\t\t|      158.0\n",
      "    71\t\t|      159.8\n",
      "    72\t\t|      161.6\n",
      "    73\t\t|      163.4\n",
      "    74\t\t|      165.2\n",
      "    75\t\t|      167.0\n",
      "    76\t\t|      168.8\n",
      "    77\t\t|      170.6\n",
      "    78\t\t|      172.4\n",
      "    79\t\t|      174.2\n",
      "    80\t\t|      176.0\n",
      "    81\t\t|      177.8\n",
      "    82\t\t|      179.6\n",
      "    83\t\t|      181.4\n",
      "    84\t\t|      183.2\n",
      "    85\t\t|      185.0\n",
      "    86\t\t|      186.8\n",
      "    87\t\t|      188.6\n",
      "    88\t\t|      190.4\n",
      "    89\t\t|      192.2\n",
      "    90\t\t|      194.0\n",
      "    91\t\t|      195.8\n",
      "    92\t\t|      197.6\n",
      "    93\t\t|      199.4\n",
      "    94\t\t|      201.2\n",
      "    95\t\t|      203.0\n",
      "    96\t\t|      204.8\n",
      "    97\t\t|      206.6\n",
      "    98\t\t|      208.4\n",
      "    99\t\t|      210.2\n",
      "   100\t\t|      212.0\n"
     ]
    }
   ],
   "source": [
    "def conversion(num):\n",
    "    return (num*1.8 + 32)\n",
    "\n",
    "# main\n",
    "print('   Celsius      |   Fahrenheit')\n",
    "print('---------------------------------')\n",
    "\n",
    "for i in range(101):\n",
    "    print('   ', end = '')\n",
    "    print('%3d'% i, end = '')\n",
    "    print('\\t\\t|', '    ', float(\"{:.2f}\".format(conversion(i))))\n"
   ]
  },
  {
   "cell_type": "markdown",
   "metadata": {},
   "source": [
    "---"
   ]
  },
  {
   "cell_type": "markdown",
   "metadata": {},
   "source": [
    "## Exercise 66 : Compute a Grade Point Average"
   ]
  },
  {
   "cell_type": "code",
   "execution_count": 53,
   "metadata": {},
   "outputs": [
    {
     "name": "stdout",
     "output_type": "stream",
     "text": [
      "A\n",
      "C+\n",
      "B\n",
      "\n",
      "3.1\n"
     ]
    }
   ],
   "source": [
    "def grade(letter):\n",
    "    if letter == 'A+':\n",
    "        return 4.0\n",
    "    elif letter == 'A':\n",
    "        return 4.0\n",
    "    elif letter == 'A-':\n",
    "        return 3.7\n",
    "    elif letter == 'B+':\n",
    "        return 3.3\n",
    "    elif letter == 'B':\n",
    "        return 3.0\n",
    "    elif letter == 'B-':\n",
    "        return 2.7\n",
    "    if letter == 'C+':\n",
    "        return 2.3\n",
    "    elif letter == 'C':\n",
    "        return 2.0\n",
    "    elif letter == 'C-':\n",
    "        return 1.7\n",
    "    elif letter == 'D+':\n",
    "        return 1.3\n",
    "    elif letter == 'D':\n",
    "        return 1.0\n",
    "    elif letter == 'F':\n",
    "        return 0.0\n",
    "    else:\n",
    "        return False\n",
    "    \n",
    "# main\n",
    "import numpy\n",
    "\n",
    "letter = input()\n",
    "letters = []\n",
    "\n",
    "while letter:\n",
    "    if grade(letter):\n",
    "        letters.append(grade(letter))\n",
    "    else:\n",
    "        print('Plese enter a appropriate letter')\n",
    "    letter = input()\n",
    "    \n",
    "print(numpy.mean(letters))    \n"
   ]
  },
  {
   "cell_type": "markdown",
   "metadata": {},
   "source": [
    "---"
   ]
  },
  {
   "cell_type": "markdown",
   "metadata": {},
   "source": [
    "## Exercise 67 : Admission Price"
   ]
  },
  {
   "cell_type": "code",
   "execution_count": 3,
   "metadata": {},
   "outputs": [
    {
     "name": "stdout",
     "output_type": "stream",
     "text": [
      "2\n",
      "12\n",
      "3\n",
      "45\n",
      "25\n",
      "66\n",
      "65\n",
      "70\n",
      "\n",
      "128.00\n"
     ]
    }
   ],
   "source": [
    "def price_admission(age):\n",
    "    if age <= 2:\n",
    "        return 0.0\n",
    "    elif 3 <= age <= 12:\n",
    "        return 14.0\n",
    "    elif age >= 65:\n",
    "        return 18.0\n",
    "    else:\n",
    "        return 23.0\n",
    "    \n",
    "# main\n",
    "line = input()\n",
    "nums = []\n",
    "\n",
    "while line:\n",
    "    try:\n",
    "        num = int(line)\n",
    "    except:\n",
    "        print('Please enter an age.')\n",
    "    else:\n",
    "        nums.append(price_admission(num))\n",
    "    line = input()\n",
    "\n",
    "print(\"{:.2f}\".format(sum(nums)))"
   ]
  },
  {
   "cell_type": "markdown",
   "metadata": {},
   "source": [
    "---"
   ]
  },
  {
   "cell_type": "markdown",
   "metadata": {},
   "source": [
    "## Exercise 72 : Is a String a Palindrome?"
   ]
  },
  {
   "cell_type": "code",
   "execution_count": 6,
   "metadata": {},
   "outputs": [
    {
     "name": "stdout",
     "output_type": "stream",
     "text": [
      "if you want to quit, press 'q'\n",
      "civic\n",
      "This string is a Palindrome.\n",
      "level\n",
      "This string is a Palindrome.\n",
      "hannah\n",
      "This string is a Palindrome.\n",
      "nanana\n",
      "This string is not a Palindrome.\n",
      "abcde\n",
      "This string is not a Palindrome.\n",
      "q\n"
     ]
    }
   ],
   "source": [
    "print('if you want to quit, press \\'q\\'')\n",
    "line = input()\n",
    "\n",
    "compare_line = []\n",
    "while line != 'q':\n",
    "    compare_line = list(line)\n",
    "    compare_line.reverse()\n",
    "    \n",
    "    if line == ''.join(compare_line):\n",
    "        print('This string is a Palindrome.')\n",
    "    else:\n",
    "        print('This string is not a Palindrome.')\n",
    "    line = input()\n"
   ]
  },
  {
   "cell_type": "markdown",
   "metadata": {},
   "source": [
    "---"
   ]
  },
  {
   "cell_type": "markdown",
   "metadata": {},
   "source": [
    "## Exercise 74 : Multiplication Table"
   ]
  },
  {
   "cell_type": "code",
   "execution_count": 15,
   "metadata": {},
   "outputs": [
    {
     "name": "stdout",
     "output_type": "stream",
     "text": [
      "       1   2   3   4   5   6   7   8   9  10\n",
      "   1   1   2   3   4   5   6   7   8   9  10\n",
      "   2   2   4   6   8  10  12  14  16  18  20\n",
      "   3   3   6   9  12  15  18  21  24  27  30\n",
      "   4   4   8  12  16  20  24  28  32  36  40\n",
      "   5   5  10  15  20  25  30  35  40  45  50\n",
      "   6   6  12  18  24  30  36  42  48  54  60\n",
      "   7   7  14  21  28  35  42  49  56  63  70\n",
      "   8   8  16  24  32  40  48  56  64  72  80\n",
      "   9   9  18  27  36  45  54  63  72  81  90\n",
      "  10  10  20  30  40  50  60  70  80  90 100\n"
     ]
    }
   ],
   "source": [
    "print('    ', end='')\n",
    "\n",
    "for i in range(1, 11):\n",
    "    print(' %3d'% i, end = '')\n",
    "    \n",
    "print()\n",
    "for i in range(1, 11):\n",
    "    print(' %3d'% i, end = '')\n",
    "    for j in range(1, 11):\n",
    "        print(' %3d'% (i*j), end = '')\n",
    "    print()"
   ]
  },
  {
   "cell_type": "markdown",
   "metadata": {},
   "source": [
    "---"
   ]
  },
  {
   "cell_type": "markdown",
   "metadata": {},
   "source": [
    "## Exercise 75 : Greatest Common Divisor"
   ]
  },
  {
   "cell_type": "code",
   "execution_count": 22,
   "metadata": {},
   "outputs": [
    {
     "name": "stdout",
     "output_type": "stream",
     "text": [
      "24, 48\n",
      "24\n",
      "4, 6\n",
      "2\n",
      "31, 37\n",
      "1\n",
      "123456, 654432\n",
      "96\n",
      "dd, mm\n",
      "Please enter an integer.\n",
      "1212, 111\n",
      "3\n",
      "q\n"
     ]
    }
   ],
   "source": [
    "def GCD(d, num1, num2):\n",
    "    while True:\n",
    "        if num1%d == 0 and num2%d == 0:\n",
    "            return d\n",
    "        else:\n",
    "            d -= 1\n",
    "    \n",
    "# main\n",
    "line = input()\n",
    "nums = []\n",
    "\n",
    "while line != 'q':\n",
    "    nums = line.split(',')\n",
    "    try:\n",
    "        num1 = int(nums[0])\n",
    "        num2 = int(nums[1])\n",
    "    except:\n",
    "        print('Please enter an integer.')\n",
    "    else:\n",
    "        if num1 < num2:\n",
    "            d = num1\n",
    "            gcd = GCD(d, num1, num2)\n",
    "        elif num1 == num2:\n",
    "            gcd = num1\n",
    "        else:\n",
    "            d = num2\n",
    "            gcd = GCD(d, num1, num2)\n",
    "        print(gcd)\n",
    "    line = input()\n",
    "    "
   ]
  },
  {
   "cell_type": "markdown",
   "metadata": {},
   "source": [
    "---"
   ]
  },
  {
   "cell_type": "markdown",
   "metadata": {},
   "source": [
    "## Exercise 77 : Binary to Decimal"
   ]
  },
  {
   "cell_type": "code",
   "execution_count": 2,
   "metadata": {},
   "outputs": [
    {
     "name": "stdout",
     "output_type": "stream",
     "text": [
      "if you want to quit, press 'q'\n",
      "1100\n",
      "1100(2) = 12(10)\n",
      "1010\n",
      "1010(2) = 10(10)\n",
      "10000000000\n",
      "10000000000(2) = 1024(10)\n",
      "110010101101010101010\n",
      "110010101101010101010(2) = 1661610(10)\n",
      "qq\n",
      "Please enter a binary number\n",
      "111111\n",
      "111111(2) = 63(10)\n",
      "q\n"
     ]
    }
   ],
   "source": [
    "def bin_to_dec(nums):\n",
    "    for i in range(len(nums)):\n",
    "        nums[i] = int(nums[i]) * pow(2, len(nums)-1-i)\n",
    "    return sum(nums)\n",
    "\n",
    "# main\n",
    "print('if you want to quit, press \\'q\\'')\n",
    "line = input()\n",
    "nums = []\n",
    "\n",
    "while line != 'q':\n",
    "    try:\n",
    "        num = int(line)\n",
    "    except:\n",
    "        print('Please enter a binary number')\n",
    "    else:\n",
    "        nums = list(line)\n",
    "        print(num, end='')\n",
    "        print('(2) = ', end='')\n",
    "        print(bin_to_dec(nums), end='')\n",
    "        print('(10)')\n",
    "    line = input()"
   ]
  },
  {
   "cell_type": "markdown",
   "metadata": {},
   "source": [
    "---"
   ]
  },
  {
   "cell_type": "markdown",
   "metadata": {},
   "source": [
    "## Exercise 78 : Decimal to Binary"
   ]
  },
  {
   "cell_type": "code",
   "execution_count": 2,
   "metadata": {},
   "outputs": [
    {
     "name": "stdout",
     "output_type": "stream",
     "text": [
      "if you want to quit, press 'q'\n",
      "23\n",
      "23(10) = 10111(2)\n",
      "32\n",
      "32(10) = 100000(2)\n",
      "44\n",
      "44(10) = 101100(2)\n",
      "2345677\n",
      "2345677(10) = 1000111100101011001101(2)\n",
      "11\n",
      "11(10) = 1011(2)\n",
      "m\n",
      "Please enter a binary number\n",
      "1212\n",
      "1212(10) = 10010111100(2)\n",
      "q\n"
     ]
    }
   ],
   "source": [
    "def dec_to_bin(num):\n",
    "    string = ''\n",
    "    while num != 0:\n",
    "        r = num%2 \n",
    "        string = str(r) + string\n",
    "        num = int(num/2)\n",
    "    return string\n",
    "    \n",
    "# main\n",
    "print('if you want to quit, press \\'q\\'')\n",
    "line = input()\n",
    "\n",
    "while line != 'q':\n",
    "    try:\n",
    "        num = int(line)\n",
    "    except:\n",
    "        print('Please enter a binary number')\n",
    "    else:\n",
    "        print(num, end='')\n",
    "        print('(10) = ', end='')\n",
    "        print(dec_to_bin(num), end='')\n",
    "        print('(2)')\n",
    "    line = input()"
   ]
  },
  {
   "cell_type": "markdown",
   "metadata": {},
   "source": [
    "---"
   ]
  }
 ],
 "metadata": {
  "kernelspec": {
   "display_name": "Python 3",
   "language": "python",
   "name": "python3"
  },
  "language_info": {
   "codemirror_mode": {
    "name": "ipython",
    "version": 3
   },
   "file_extension": ".py",
   "mimetype": "text/x-python",
   "name": "python",
   "nbconvert_exporter": "python",
   "pygments_lexer": "ipython3",
   "version": "3.6.5"
  }
 },
 "nbformat": 4,
 "nbformat_minor": 2
}
