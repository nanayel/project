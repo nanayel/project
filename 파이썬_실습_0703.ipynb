{
 "cells": [
  {
   "cell_type": "markdown",
   "metadata": {},
   "source": [
    "---"
   ]
  },
  {
   "cell_type": "markdown",
   "metadata": {},
   "source": [
    "# Python 실습 _ 0703"
   ]
  },
  {
   "cell_type": "markdown",
   "metadata": {},
   "source": [
    "---"
   ]
  },
  {
   "cell_type": "markdown",
   "metadata": {},
   "source": [
    "## 김예린\n"
   ]
  },
  {
   "cell_type": "markdown",
   "metadata": {},
   "source": [
    "---"
   ]
  },
  {
   "cell_type": "markdown",
   "metadata": {},
   "source": [
    "## Exercise 105 : Reverse Order"
   ]
  },
  {
   "cell_type": "code",
   "execution_count": 2,
   "metadata": {},
   "outputs": [
    {
     "name": "stdout",
     "output_type": "stream",
     "text": [
      "1\n",
      "2\n",
      "3\n",
      "0\n",
      "3\n",
      "2\n",
      "1\n"
     ]
    }
   ],
   "source": [
    "line = input()\n",
    "integers = []\n",
    "\n",
    "while line != '0': \n",
    "    integers.append(line)\n",
    "    line = input()\n",
    "\n",
    "integers.reverse()\n",
    "\n",
    "for i in integers:\n",
    "    print(i)"
   ]
  },
  {
   "cell_type": "markdown",
   "metadata": {},
   "source": [
    "---"
   ]
  },
  {
   "cell_type": "markdown",
   "metadata": {},
   "source": [
    "## Exercise 107 : Avoiding Duplicates"
   ]
  },
  {
   "cell_type": "code",
   "execution_count": 9,
   "metadata": {},
   "outputs": [
    {
     "name": "stdout",
     "output_type": "stream",
     "text": [
      "first\n",
      "second\n",
      "first\n",
      "third\n",
      "second\n",
      "\n",
      "first\n",
      "second\n",
      "third\n"
     ]
    }
   ],
   "source": [
    "line = input()\n",
    "words = []\n",
    "\n",
    "while line:\n",
    "    if line not in words:\n",
    "        words.append(line)\n",
    "    line = input()\n",
    "\n",
    "for i in words:\n",
    "    print(i)"
   ]
  },
  {
   "cell_type": "markdown",
   "metadata": {},
   "source": [
    "---"
   ]
  },
  {
   "cell_type": "markdown",
   "metadata": {},
   "source": [
    "## Exercise 108 : Negatives, Zeros and Positives"
   ]
  },
  {
   "cell_type": "code",
   "execution_count": 61,
   "metadata": {},
   "outputs": [
    {
     "name": "stdout",
     "output_type": "stream",
     "text": [
      "3\n",
      "-4\n",
      "1\n",
      "0\n",
      "-1\n",
      "0\n",
      "-2\n",
      "\n",
      "-4\n",
      "-1\n",
      "-2\n",
      "0\n",
      "0\n",
      "3\n",
      "1\n"
     ]
    }
   ],
   "source": [
    "integers = []\n",
    "line = input()\n",
    "\n",
    "while line:\n",
    "    try:\n",
    "        integer = int(line)\n",
    "    except:\n",
    "        print(\"Enter integer.\")\n",
    "    else:\n",
    "        if len(integers) == 0:\n",
    "            integers.append(integer)\n",
    "        else:\n",
    "            if integer<= 0:\n",
    "                for i in range(0, len(integers)):\n",
    "                    if integers[i] >= 0:\n",
    "                        break\n",
    "                integers[i+1:] = integers[i:]\n",
    "                integers[i] = integer\n",
    "            else:\n",
    "                integers.append(integer)\n",
    "    line = input()\n",
    "\n",
    "for i in integers:\n",
    "    print(i)"
   ]
  },
  {
   "cell_type": "markdown",
   "metadata": {},
   "source": [
    "---"
   ]
  },
  {
   "cell_type": "markdown",
   "metadata": {},
   "source": [
    "## Exercise 110 : Perfect Numbers"
   ]
  },
  {
   "cell_type": "code",
   "execution_count": 3,
   "metadata": {},
   "outputs": [
    {
     "name": "stdout",
     "output_type": "stream",
     "text": [
      "6\n",
      "28\n",
      "496\n",
      "8128\n"
     ]
    }
   ],
   "source": [
    "def divisor(num):\n",
    "    div = []\n",
    "    for i in range(1, num):\n",
    "        if num%i == 0:\n",
    "            div.append(i)\n",
    "    return div\n",
    "\n",
    "def perfect_num(num):\n",
    "    div = divisor(num)\n",
    "    if num == sum(div):\n",
    "        return True\n",
    "    else:\n",
    "        return False\n",
    "        \n",
    "# main\n",
    "for i in range(1, 10001):\n",
    "    if perfect_num(i):\n",
    "        print(i)"
   ]
  },
  {
   "cell_type": "markdown",
   "metadata": {},
   "source": [
    "---"
   ]
  },
  {
   "cell_type": "markdown",
   "metadata": {},
   "source": [
    "## Exercise 113 : Formatting a List"
   ]
  },
  {
   "cell_type": "code",
   "execution_count": 51,
   "metadata": {},
   "outputs": [
    {
     "name": "stdout",
     "output_type": "stream",
     "text": [
      "apples\n",
      "apples and oranges\n",
      "apples, oranges and bananas\n",
      "apples, oranges, bananas and lemons\n"
     ]
    }
   ],
   "source": [
    "def formatting_list(words):\n",
    "    output_str = ''\n",
    "    if len(words) == 0:\n",
    "        return 0\n",
    "    elif len(words) == 1:\n",
    "        output_str = words[0]\n",
    "    elif len(words) == 2:\n",
    "        output_str = words[0] + ' and ' + words[1]\n",
    "    else:\n",
    "        output_str = words[0]\n",
    "        for i in range(1, len(words)-1):\n",
    "            output_str += ', '\n",
    "            output_str += words[i]\n",
    "        output_str += ' and '\n",
    "        output_str += words[len(words)-1]\n",
    " \n",
    "    return output_str\n",
    "        \n",
    "# main\n",
    "print(formatting_list(['apples']))\n",
    "print(formatting_list(['apples', 'oranges']))\n",
    "print(formatting_list(['apples', 'oranges', 'bananas']))\n",
    "print(formatting_list(['apples', 'oranges', 'bananas', 'lemons']))"
   ]
  },
  {
   "cell_type": "markdown",
   "metadata": {},
   "source": [
    "----"
   ]
  },
  {
   "cell_type": "markdown",
   "metadata": {},
   "source": [
    "## Exercise 114 : Random Lottery Numbers"
   ]
  },
  {
   "cell_type": "code",
   "execution_count": 57,
   "metadata": {},
   "outputs": [
    {
     "name": "stdout",
     "output_type": "stream",
     "text": [
      "[14, 16, 29, 31, 35, 45]\n"
     ]
    }
   ],
   "source": [
    "import random\n",
    "\n",
    "numbers = []\n",
    "for i in range(6):\n",
    "    num = random.randrange(1, 50)\n",
    "    while True:\n",
    "        if num not in numbers:\n",
    "            numbers.append(num)\n",
    "            break\n",
    "        else:\n",
    "            num = random.randrange(1, 50)\n",
    "\n",
    "numbers.sort()\n",
    "print(numbers)"
   ]
  },
  {
   "cell_type": "markdown",
   "metadata": {},
   "source": [
    "---"
   ]
  },
  {
   "cell_type": "markdown",
   "metadata": {},
   "source": [
    "## Exercise 134 : Unique Characters"
   ]
  },
  {
   "cell_type": "code",
   "execution_count": 14,
   "metadata": {},
   "outputs": [
    {
     "name": "stdout",
     "output_type": "stream",
     "text": [
      "Hello, World!\n",
      "10\n"
     ]
    }
   ],
   "source": [
    "line = input()\n",
    "set_ = {}\n",
    "\n",
    "for i in range(0, len(line)):\n",
    "    if line[i] not in set_ :\n",
    "        if 'a'< line[i]<'z' or 'A' < line[i] < 'Z':\n",
    "            set_[i] = line[i]\n",
    "\n",
    "print(len(set_.keys()))"
   ]
  },
  {
   "cell_type": "markdown",
   "metadata": {},
   "source": [
    "---"
   ]
  },
  {
   "cell_type": "markdown",
   "metadata": {},
   "source": [
    "## Exercise 135 : Anagrams"
   ]
  },
  {
   "cell_type": "code",
   "execution_count": 18,
   "metadata": {},
   "outputs": [
    {
     "name": "stdout",
     "output_type": "stream",
     "text": [
      "evil\n",
      "live\n",
      "Two words are anagrams.\n"
     ]
    }
   ],
   "source": [
    "str_1 = input()\n",
    "str_2 = input()\n",
    "\n",
    "list_1 = list(str_1)\n",
    "list_2 = list(str_2)\n",
    "\n",
    "list_1.sort()\n",
    "list_2.sort()\n",
    "\n",
    "if list_1 == list_2:\n",
    "    print(\"Two words are anagrams.\")\n",
    "else:\n",
    "    print(\"Two words aren't anagrams.\")"
   ]
  },
  {
   "cell_type": "markdown",
   "metadata": {},
   "source": [
    "---"
   ]
  }
 ],
 "metadata": {
  "kernelspec": {
   "display_name": "Python 3",
   "language": "python",
   "name": "python3"
  },
  "language_info": {
   "codemirror_mode": {
    "name": "ipython",
    "version": 3
   },
   "file_extension": ".py",
   "mimetype": "text/x-python",
   "name": "python",
   "nbconvert_exporter": "python",
   "pygments_lexer": "ipython3",
   "version": "3.6.5"
  }
 },
 "nbformat": 4,
 "nbformat_minor": 2
}
